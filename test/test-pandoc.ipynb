{
 "cells": [
  {
   "cell_type": "markdown",
   "metadata": {},
   "source": [
    "# Convert epub\n",
    "\n",
    "Sample driver notebook.\n",
    "TODO: extract this out to something more production-ready after I've got the tech stack figured out."
   ]
  },
  {
   "cell_type": "code",
   "execution_count": 24,
   "metadata": {},
   "outputs": [
    {
     "data": {
      "text/plain": [
       "''"
      ]
     },
     "execution_count": 24,
     "metadata": {},
     "output_type": "execute_result"
    }
   ],
   "source": [
    "import pypandoc\n",
    "\n",
    "def convert_epub_to_markdown(epub_path):\n",
    "    # TODO: Test if file is directory in secret\n",
    "    output = pypandoc.convert_file(epub_path, 'markdown_strict', outputfile=\"temp.md\", extra_args=['--filter=./remove-span.py'])\n",
    "    return output\n",
    "\n",
    "convert_epub_to_markdown(\"../input/when_the_moon.epub\")"
   ]
  },
  {
   "cell_type": "code",
   "execution_count": 26,
   "metadata": {},
   "outputs": [],
   "source": [
    "import re\n",
    "\n",
    "def split_into_chapters(markdown_content):\n",
    "    chapters = re.split(r'\\n## ', markdown_content)\n",
    "    return chapters\n",
    "\n",
    "with open('temp.md', 'r', encoding='utf-8') as file:\n",
    "    content = file.read()\n",
    "\n",
    "chapters = split_into_chapters(content)\n"
   ]
  },
  {
   "cell_type": "code",
   "execution_count": 41,
   "metadata": {},
   "outputs": [
    {
     "name": "stdout",
     "output_type": "stream",
     "text": [
      "Cost of audiobook: $31.55\n",
      "Length of audiobook: 36.0 hrs\n"
     ]
    }
   ],
   "source": [
    "def oai_content_cost(content: str) -> float:\n",
    "    return (len(content) / 1000) * 0.015\n",
    "\n",
    "def audiobook_hours(content: str) -> float:\n",
    "    # Assume 6.5 chars / word, 175wpm\n",
    "    return (len(content) / 6.5 / 150 / 60)\n",
    "\n",
    "print(f\"Cost of audiobook: ${round(oai_content_cost(content), 2)}\")\n",
    "print(f\"Length of audiobook: {round(audiobook_hours(content), 1)} hrs\")\n"
   ]
  },
  {
   "cell_type": "markdown",
   "metadata": {},
   "source": [
    "TODO:\n",
    "- Split epub by chapter, durably\n",
    "- Cost estimation\n",
    "- Convert segments\n",
    "- Write out to audiobook format\n"
   ]
  }
 ],
 "metadata": {
  "kernelspec": {
   "display_name": ".venv",
   "language": "python",
   "name": "python3"
  },
  "language_info": {
   "codemirror_mode": {
    "name": "ipython",
    "version": 3
   },
   "file_extension": ".py",
   "mimetype": "text/x-python",
   "name": "python",
   "nbconvert_exporter": "python",
   "pygments_lexer": "ipython3",
   "version": "3.10.10"
  }
 },
 "nbformat": 4,
 "nbformat_minor": 2
}
